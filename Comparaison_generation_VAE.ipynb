{
 "cells": [
  {
   "cell_type": "code",
   "execution_count": null,
   "id": "67c4301a-3f9a-47e7-b05a-67a3dba2e47d",
   "metadata": {},
   "outputs": [],
   "source": [
    "import matplotlib.pyplot as plt\n",
    "from mlxtend.data import loadlocal_mnist\n",
    "from principal_RBM_alpha import *\n",
    "from principal_DBN_alpha import *\n",
    "from principal_DNN_MNIST import *\n",
    "from sklearn.preprocessing import OneHotEncoder\n",
    "from utils import *\n",
    "from VAE import *"
   ]
  },
  {
   "cell_type": "code",
   "execution_count": null,
   "id": "b576991e-838c-48b3-b291-c4786b2480f1",
   "metadata": {},
   "outputs": [],
   "source": [
    "# Valeurs des hyper paramètres et entrainement\n",
    "p = 320  #(egal à 20 * 16, la taille de l'image)\n",
    "q = 250\n",
    "rbm = RBM(p, q) #la taille du réseau est donc [320,250]\n",
    "\n",
    "epochs = 500\n",
    "learning_rate = 0.01\n",
    "batch_size = 10\n",
    "\n",
    "RBM_trained, loss = rbm.train_RBM(images, epochs, learning_rate, batch_size, verbose = False)\n",
    "\n",
    "plt.plot(loss)\n",
    "plt.title(\"Évolution de la loss pendant l'entraînement\")\n",
    "plt.show()\n",
    "\n",
    "n_iter = 1000\n",
    "n_imgs = 10\n",
    "RBM_trained.generer_image_RBM(n_imgs, n_iter)"
   ]
  },
  {
   "cell_type": "code",
   "execution_count": null,
   "id": "65ab7a42-6376-45e6-b970-a79837fbf509",
   "metadata": {},
   "outputs": [],
   "source": [
    "neurons = [images[0, :].shape[0], 200, 150, 100] #taille du réseau\n",
    "dbn = DBN(neurons)\n",
    "dbn, losses = dbn.pretrain_DBN(images, n_epoch=2000, lr_rate=0.001)\n",
    "generated = dbn.generer_image_DBN(n_imgs, n_iter=n_iter, verbose = False)"
   ]
  },
  {
   "cell_type": "code",
   "execution_count": null,
   "id": "9d5bf5c2-2e12-4b26-ab84-9769f4333395",
   "metadata": {},
   "outputs": [],
   "source": [
    "# build model\n",
    "vae = VAE(x_dim=784, h_dim1= 512, h_dim2=256, z_dim=2)\n",
    "if torch.cuda.is_available():\n",
    "    vae.cuda()\n",
    "\n",
    "for epoch in range(1, 51):\n",
    "    train(epoch)\n",
    "    test()"
   ]
  },
  {
   "cell_type": "code",
   "execution_count": null,
   "id": "80091905-ef5f-4c48-8b8a-4c352a00047f",
   "metadata": {},
   "outputs": [],
   "source": [
    "with torch.no_grad():\n",
    "    if torch.cuda.is_available():\n",
    "        z = torch.randn(64, 2).cuda()\n",
    "        sample = vae.decoder(z).cuda()\n",
    "    else:\n",
    "        z = torch.randn(64, 2)\n",
    "        sample = vae.decoder(z)\n",
    "    sample.view(64, 1, 28, 28)"
   ]
  }
 ],
 "metadata": {
  "kernelspec": {
   "display_name": "default:Python",
   "language": "python",
   "name": "conda-env-default-py"
  },
  "language_info": {
   "codemirror_mode": {
    "name": "ipython",
    "version": 3
   },
   "file_extension": ".py",
   "mimetype": "text/x-python",
   "name": "python",
   "nbconvert_exporter": "python",
   "pygments_lexer": "ipython3",
   "version": "3.9.9"
  }
 },
 "nbformat": 4,
 "nbformat_minor": 5
}
