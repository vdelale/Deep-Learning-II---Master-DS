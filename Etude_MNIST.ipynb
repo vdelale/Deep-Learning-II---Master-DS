{
 "cells": [
  {
   "cell_type": "code",
   "execution_count": 1,
   "id": "bec5ae14-a951-4207-9ba6-d4a5462a685f",
   "metadata": {},
   "outputs": [],
   "source": [
    "import matplotlib.pyplot as plt\n",
    "from mlxtend.data import loadlocal_mnist\n",
    "from principal_RBM_alpha import *\n",
    "from principal_DBN_alpha import *\n",
    "from principal_DNN_MNIST import *\n",
    "from sklearn.preprocessing import OneHotEncoder\n",
    "from utils import *"
   ]
  },
  {
   "cell_type": "markdown",
   "id": "82fb2ec4-36ea-4bfe-b4bc-617505d11fa2",
   "metadata": {},
   "source": [
    "On charge la base de donnée"
   ]
  },
  {
   "cell_type": "code",
   "execution_count": 2,
   "id": "0a147fd8-2233-44db-9be5-b98a9c3d5660",
   "metadata": {},
   "outputs": [
    {
     "data": {
      "text/plain": [
       "array([[0., 0., 0., 0., 0., 1., 0., 0., 0., 0.],\n",
       "       [1., 0., 0., 0., 0., 0., 0., 0., 0., 0.],\n",
       "       [0., 0., 0., 0., 1., 0., 0., 0., 0., 0.],\n",
       "       [0., 1., 0., 0., 0., 0., 0., 0., 0., 0.],\n",
       "       [0., 0., 0., 0., 0., 0., 0., 0., 0., 1.],\n",
       "       [0., 0., 1., 0., 0., 0., 0., 0., 0., 0.],\n",
       "       [0., 1., 0., 0., 0., 0., 0., 0., 0., 0.],\n",
       "       [0., 0., 0., 1., 0., 0., 0., 0., 0., 0.],\n",
       "       [0., 1., 0., 0., 0., 0., 0., 0., 0., 0.],\n",
       "       [0., 0., 0., 0., 1., 0., 0., 0., 0., 0.]])"
      ]
     },
     "execution_count": 2,
     "metadata": {},
     "output_type": "execute_result"
    }
   ],
   "source": [
    "X_train, y_train = loadlocal_mnist(images_path='train-images-idx3-ubyte',\n",
    "                         labels_path='train-labels-idx1-ubyte')\n",
    "X_test, y_test = loadlocal_mnist(images_path='t10k-images-idx3-ubyte',\n",
    "                         labels_path='t10k-labels-idx1-ubyte')\n",
    "#On binarise les images\n",
    "X_train = np.where(X_train > 126, 1, 0)\n",
    "X_test = np.where(X_test > 126, 1, 0)\n",
    "#On encode les targets\n",
    "oh = OneHotEncoder()\n",
    "y_train = oh.fit_transform(y_train.reshape(-1,1)).toarray()\n",
    "y_test = oh.fit_transform(y_test.reshape(-1,1)).toarray()"
   ]
  },
  {
   "cell_type": "code",
   "execution_count": 9,
   "id": "861a9670-45b8-44c3-bd20-8c7ea6dc1c15",
   "metadata": {},
   "outputs": [],
   "source": [
    "# Valeurs des hyper paramètres\n",
    "vect_DNN = [784, 100, 50, 10] #taille du réseau DNN\n",
    "n_iter_RBM = 100\n",
    "n_iter_DBN = 200\n",
    "lr = 0.01\n",
    "batch_size = 32"
   ]
  },
  {
   "cell_type": "code",
   "execution_count": null,
   "id": "1f915e22-1534-42a7-a55e-6719002f3990",
   "metadata": {},
   "outputs": [
    {
     "name": "stdout",
     "output_type": "stream",
     "text": [
      "Epoch 1 out of 100, loss: 0.1380029137394859\n"
     ]
    }
   ],
   "source": [
    "dnn = DNN(vect_DNN) #On initialise le DNN\n",
    "\n",
    "dnn, losses = dnn.pretrain_DBN(X_train, batch_size = batch_size, n_epoch = n_iter_RBM) #On entraine de manière\n",
    "                                                                                        #non supervisée\n",
    "\n",
    "dnn, loss = dnn.retropropagation(data = X_train, labels = y_train, epochs = n_iter_DBN,\n",
    "                                 batch_size = batch_size, lr_rate = lr)  #On entraine ensuite de manière supervisée\n",
    "plt.plot(loss)\n",
    "plt.show()\n",
    "\n",
    "dnn.test_dnn(X_test, y_test)"
   ]
  },
  {
   "cell_type": "code",
   "execution_count": 16,
   "id": "726a1050-63e7-4ae0-90a7-4672d5b79f96",
   "metadata": {},
   "outputs": [
    {
     "data": {
      "text/plain": [
       "array([[0.11425521, 0.10678683, 0.09525383, 0.09645352, 0.09358291,\n",
       "        0.08267874, 0.10589963, 0.11634611, 0.09970265, 0.08904058],\n",
       "       [0.08278473, 0.11774999, 0.1228762 , 0.11914984, 0.06896959,\n",
       "        0.04974381, 0.10116761, 0.10866419, 0.10565457, 0.12323948],\n",
       "       [0.09161331, 0.10469213, 0.11637695, 0.12502633, 0.06293324,\n",
       "        0.04935198, 0.1224791 , 0.10360228, 0.08806949, 0.13585521],\n",
       "       [0.11410858, 0.10053584, 0.08569884, 0.08204931, 0.11580943,\n",
       "        0.12323586, 0.08152348, 0.12496141, 0.112617  , 0.05946025],\n",
       "       [0.0939731 , 0.10257197, 0.10134698, 0.12043303, 0.07389647,\n",
       "        0.06077177, 0.11727499, 0.11817187, 0.10614523, 0.10541458]])"
      ]
     },
     "execution_count": 16,
     "metadata": {},
     "output_type": "execute_result"
    }
   ],
   "source": [
    "dnn.get_pred(X_test[:5])"
   ]
  },
  {
   "cell_type": "code",
   "execution_count": 30,
   "id": "c9aa3747-dddf-471c-b66f-b5cecc028cae",
   "metadata": {},
   "outputs": [
    {
     "data": {
      "text/plain": [
       "(<matplotlib.image.AxesImage at 0x7fce5d1c68b0>, 9)"
      ]
     },
     "execution_count": 30,
     "metadata": {},
     "output_type": "execute_result"
    },
    {
     "data": {
      "image/png": "[encoded data removed]",
      "text/plain": [
       "<Figure size 432x288 with 1 Axes>"
      ]
     },
     "metadata": {
      "needs_background": "light"
     },
     "output_type": "display_data"
    }
   ],
   "source": [
    "i=4\n",
    "plt.imshow(X_train[i].reshape(28,28),cmap='gray'),np.argmax(y_train[i])"
   ]
  },
  {
   "cell_type": "code",
   "execution_count": 31,
   "id": "0ac1ea9a-8ce6-4645-9417-4daaa413fbbc",
   "metadata": {},
   "outputs": [
    {
     "data": {
      "text/plain": [
       "(<matplotlib.image.AxesImage at 0x7fce5d125850>, 0)"
      ]
     },
     "execution_count": 31,
     "metadata": {},
     "output_type": "execute_result"
    },
    {
     "data": {
      "image/png": "[encoded data removed]",
      "text/plain": [
       "<Figure size 432x288 with 1 Axes>"
      ]
     },
     "metadata": {
      "needs_background": "light"
     },
     "output_type": "display_data"
    }
   ],
   "source": [
    "i=1\n",
    "plt.imshow(X_train[i].reshape(28,28),cmap='gray'),np.argmax(y_train[i])"
   ]
  },
  {
   "cell_type": "markdown",
   "id": "53cd34f9-6847-4c61-bdd3-d82fe9bf89f3",
   "metadata": {},
   "source": [
    "## Analyse"
   ]
  },
  {
   "cell_type": "code",
   "execution_count": 8,
   "id": "83d0a6f7-cfde-48f9-ad65-6f864fd7fad6",
   "metadata": {},
   "outputs": [
    {
     "name": "stdout",
     "output_type": "stream",
     "text": [
      "200 200\n"
     ]
    }
   ],
   "source": [
    "X_, y_ = loadlocal_mnist(images_path='train-images-idx3-ubyte',\n",
    "                         labels_path='train-labels-idx1-ubyte')\n",
    "#On split notre base de donnée\n",
    "X_train = X_[:]\n",
    "y_train = y_[:]\n",
    "X_test = X_[10000:12000]\n",
    "y_test = y_[10000:12000]\n",
    "#On binarise les images\n",
    "X_train = np.where(X_train > 126, 1, 0)\n",
    "X_test = np.where(X_test > 126, 1, 0)\n",
    "#On encode les targets\n",
    "oh = OneHotEncoder()\n",
    "y_train = oh.fit_transform(y_train.reshape(-1,1)).toarray()\n",
    "y_test = oh.fit_transform(y_test.reshape(-1,1)).toarray()"
   ]
  },
  {
   "cell_type": "code",
   "execution_count": 10,
   "id": "ee2d6226-f6f8-4e0d-9164-6d9a128f094d",
   "metadata": {},
   "outputs": [
    {
     "name": "stdout",
     "output_type": "stream",
     "text": [
      "199 2000\n",
      "172 2000\n"
     ]
    },
    {
     "ename": "KeyboardInterrupt",
     "evalue": "",
     "output_type": "error",
     "traceback": [
      "\u001b[0;31m---------------------------------------------------------------------------\u001b[0m",
      "\u001b[0;31mKeyboardInterrupt\u001b[0m                         Traceback (most recent call last)",
      "\u001b[0;32m/tmp/ipykernel_663/2830205385.py\u001b[0m in \u001b[0;36m<module>\u001b[0;34m\u001b[0m\n\u001b[1;32m     12\u001b[0m                                  batch_size = batch_size, lr_rate = lr, verbose = False)\n\u001b[1;32m     13\u001b[0m     \u001b[0;31m#On entraine celui-ci seulement de manière supervisée\u001b[0m\u001b[0;34m\u001b[0m\u001b[0;34m\u001b[0m\u001b[0m\n\u001b[0;32m---> 14\u001b[0;31m     dnn2, loss = dnn2.retropropagation(data = X_train, labels = y_train, epochs = n_iter_DBN,\n\u001b[0m\u001b[1;32m     15\u001b[0m                                  batch_size = batch_size, lr_rate = lr, verbose = False)\n\u001b[1;32m     16\u001b[0m     \u001b[0mlist_train\u001b[0m\u001b[0;34m.\u001b[0m\u001b[0mappend\u001b[0m\u001b[0;34m(\u001b[0m\u001b[0mdnn2\u001b[0m\u001b[0;34m.\u001b[0m\u001b[0mtest_dnn\u001b[0m\u001b[0;34m(\u001b[0m\u001b[0mX_test\u001b[0m\u001b[0;34m,\u001b[0m \u001b[0my_test\u001b[0m\u001b[0;34m,\u001b[0m \u001b[0mverbose\u001b[0m \u001b[0;34m=\u001b[0m \u001b[0;32mFalse\u001b[0m\u001b[0;34m)\u001b[0m\u001b[0;34m)\u001b[0m\u001b[0;34m\u001b[0m\u001b[0;34m\u001b[0m\u001b[0m\n",
      "\u001b[0;32m~/Deep-Learning-II-Master-DS/principal_DNN_MNIST.py\u001b[0m in \u001b[0;36mretropropagation\u001b[0;34m(self, data, labels, batch_size, epochs, lr_rate, verbose)\u001b[0m\n\u001b[1;32m     40\u001b[0m                 \u001b[0;32mfor\u001b[0m \u001b[0midx\u001b[0m\u001b[0;34m,\u001b[0m \u001b[0mrbm\u001b[0m \u001b[0;32min\u001b[0m \u001b[0mreversed\u001b[0m\u001b[0;34m(\u001b[0m\u001b[0mlist\u001b[0m\u001b[0;34m(\u001b[0m\u001b[0menumerate\u001b[0m\u001b[0;34m(\u001b[0m\u001b[0mself\u001b[0m\u001b[0;34m.\u001b[0m\u001b[0mRBMs_list\u001b[0m\u001b[0;34m[\u001b[0m\u001b[0;34m:\u001b[0m\u001b[0;34m-\u001b[0m\u001b[0;36m1\u001b[0m\u001b[0;34m]\u001b[0m\u001b[0;34m)\u001b[0m\u001b[0;34m)\u001b[0m\u001b[0;34m)\u001b[0m\u001b[0;34m:\u001b[0m\u001b[0;34m\u001b[0m\u001b[0;34m\u001b[0m\u001b[0m\n\u001b[1;32m     41\u001b[0m                     \u001b[0mc\u001b[0m \u001b[0;34m=\u001b[0m \u001b[0mc\u001b[0m\u001b[0;34m@\u001b[0m\u001b[0mself\u001b[0m\u001b[0;34m.\u001b[0m\u001b[0mRBMs_list\u001b[0m\u001b[0;34m[\u001b[0m\u001b[0midx\u001b[0m\u001b[0;34m+\u001b[0m\u001b[0;36m1\u001b[0m\u001b[0;34m]\u001b[0m\u001b[0;34m.\u001b[0m\u001b[0mW\u001b[0m\u001b[0;34m.\u001b[0m\u001b[0mT\u001b[0m \u001b[0;34m*\u001b[0m \u001b[0moutputs\u001b[0m\u001b[0;34m[\u001b[0m\u001b[0midx\u001b[0m\u001b[0;34m+\u001b[0m\u001b[0;36m1\u001b[0m\u001b[0;34m]\u001b[0m \u001b[0;34m*\u001b[0m \u001b[0;34m(\u001b[0m\u001b[0;36m1\u001b[0m\u001b[0;34m-\u001b[0m\u001b[0moutputs\u001b[0m\u001b[0;34m[\u001b[0m\u001b[0midx\u001b[0m\u001b[0;34m+\u001b[0m\u001b[0;36m1\u001b[0m\u001b[0;34m]\u001b[0m\u001b[0;34m)\u001b[0m\u001b[0;34m\u001b[0m\u001b[0;34m\u001b[0m\u001b[0m\n\u001b[0;32m---> 42\u001b[0;31m                     \u001b[0mrbm\u001b[0m\u001b[0;34m.\u001b[0m\u001b[0mW\u001b[0m \u001b[0;34m-=\u001b[0m \u001b[0mlr_rate\u001b[0m \u001b[0;34m/\u001b[0m \u001b[0mbatch_size\u001b[0m \u001b[0;34m*\u001b[0m \u001b[0moutputs\u001b[0m\u001b[0;34m[\u001b[0m\u001b[0midx\u001b[0m\u001b[0;34m]\u001b[0m\u001b[0;34m.\u001b[0m\u001b[0mT\u001b[0m \u001b[0;34m@\u001b[0m \u001b[0mc\u001b[0m\u001b[0;34m\u001b[0m\u001b[0;34m\u001b[0m\u001b[0m\n\u001b[0m\u001b[1;32m     43\u001b[0m                     \u001b[0mrbm\u001b[0m\u001b[0;34m.\u001b[0m\u001b[0mb\u001b[0m \u001b[0;34m-=\u001b[0m \u001b[0mlr_rate\u001b[0m \u001b[0;34m*\u001b[0m \u001b[0mnp\u001b[0m\u001b[0;34m.\u001b[0m\u001b[0mmean\u001b[0m\u001b[0;34m(\u001b[0m\u001b[0mc\u001b[0m\u001b[0;34m,\u001b[0m \u001b[0maxis\u001b[0m\u001b[0;34m=\u001b[0m\u001b[0;36m0\u001b[0m\u001b[0;34m)\u001b[0m\u001b[0;34m\u001b[0m\u001b[0;34m\u001b[0m\u001b[0m\n\u001b[1;32m     44\u001b[0m                 \u001b[0mloss_batches\u001b[0m \u001b[0;34m+=\u001b[0m \u001b[0mcross_entropy\u001b[0m\u001b[0;34m(\u001b[0m\u001b[0moutputs\u001b[0m\u001b[0;34m[\u001b[0m\u001b[0;34m-\u001b[0m\u001b[0;36m1\u001b[0m\u001b[0;34m]\u001b[0m\u001b[0;34m,\u001b[0m \u001b[0mbatch_labels\u001b[0m\u001b[0;34m)\u001b[0m\u001b[0;34m\u001b[0m\u001b[0;34m\u001b[0m\u001b[0m\n",
      "\u001b[0;31mKeyboardInterrupt\u001b[0m: "
     ]
    }
   ],
   "source": [
    "#Figure 1\n",
    "grid = [[784, 10], [784, 200, 10], [784, 200, 200, 10], [784, 200, 200, 200, 10], [784, 200, 200, 200, 200, 10]]\n",
    "list_train = []\n",
    "list_pretrain = []\n",
    "for vect in grid:\n",
    "    print(vect)\n",
    "    dnn1 = DNN(vect)\n",
    "    dnn2 = DNN(vect) # On initialise deux réseaux identiques\n",
    "    dnn1, losses = dnn1.pretrain_DBN(X_train, batch_size = batch_size, n_epoch = n_iter_RBM, verbose = False) \n",
    "                                                            #On entraine de manière non supervisée\n",
    "    #On entraine ensuite de manière supervisée\n",
    "    dnn1, loss = dnn1.retropropagation(data = X_train, labels = y_train, epochs = n_iter_DBN,\n",
    "                                 batch_size = batch_size, lr_rate = lr, verbose = False)\n",
    "    #On entraine celui-ci seulement de manière supervisée\n",
    "    dnn2, loss = dnn2.retropropagation(data = X_train, labels = y_train, epochs = n_iter_DBN,\n",
    "                                 batch_size = batch_size, lr_rate = lr, verbose = False)\n",
    "    list_train.append(dnn2.test_dnn(X_test, y_test, verbose = False))\n",
    "    list_pretrain.append(dnn1.test_dnn(X_test, y_test, verbose = False))"
   ]
  },
  {
   "cell_type": "code",
   "execution_count": null,
   "id": "7af6b726-765d-4a15-8104-815e42995d00",
   "metadata": {},
   "outputs": [],
   "source": [
    "plt.figure(figsize=(12,7))\n",
    "plt.title(\"Évolution du taux d'erreur en fonction du nombre de couches\")\n",
    "plt.xlabel('Nombre de couches')\n",
    "plt.ylabel(\"Taux d'erreur\")\n",
    "plt.plot(list_train, [2, 3, 4, 5])\n",
    "plt.plot(list_pretrain, [2, 3, 4, 5])\n",
    "plt.grid()\n",
    "plt.show()"
   ]
  },
  {
   "cell_type": "code",
   "execution_count": null,
   "id": "9f4e8f90-c652-4772-8f37-3a1bfe4889c0",
   "metadata": {},
   "outputs": [],
   "source": [
    "#Figure 2\n",
    "grid = [[784, 50, 50, 10], [784, 100, 100, 10], [784, 200, 200, 10], [784, 300, 300, 10], \n",
    "        [784, 400, 400, 10], [784, 500, 500, 10], [784, 700, 700, 10]]\n",
    "list_train = []\n",
    "list_pretrain = []\n",
    "for vect in grid:\n",
    "    print(vect)\n",
    "    dnn1 = DNN(vect)\n",
    "    dnn2 = DNN(vect) # On initialise deux réseaux identiques\n",
    "    dnn1, losses = dnn1.pretrain_DBN(X_train, batch_size = batch_size, n_epoch = n_iter_RBM, verbose = False) \n",
    "                                                            #On entraine de manière non supervisée\n",
    "    #On entraine ensuite de manière supervisée\n",
    "    dnn1, loss = dnn1.retropropagation(data = X_train, labels = y_train, epochs = n_iter_DBN,\n",
    "                                 batch_size = batch_size, lr_rate = lr, verbose = False)\n",
    "    #On entraine celui-ci seulement de manière supervisée\n",
    "    dnn2, loss = dnn2.retropropagation(data = X_train, labels = y_train, epochs = n_iter_DBN,\n",
    "                                 batch_size = batch_size, lr_rate = lr, verbose = False)\n",
    "    list_train.append(dnn2.test_dnn(X_test, y_test, verbose = False))\n",
    "    list_pretrain.append(dnn1.test_dnn(X_test, y_test, verbose = False))"
   ]
  },
  {
   "cell_type": "code",
   "execution_count": null,
   "id": "f3e1856a-f81a-44ee-aad7-8c66411dbb26",
   "metadata": {},
   "outputs": [],
   "source": [
    "plt.figure(figsize=(12,7))\n",
    "plt.title(\"Évolution du taux d'erreur en fonction du nombre de neurones par couche\")\n",
    "plt.xlabel('Nombre de neurones')\n",
    "plt.ylabel(\"Taux d'erreur\")\n",
    "plt.plot(list_train, [50, 100, 200, 300, 400, 500, 700])\n",
    "plt.plot(list_pretrain, [50, 100, 200, 300, 400, 500, 700])\n",
    "plt.grid()\n",
    "plt.show()"
   ]
  },
  {
   "cell_type": "code",
   "execution_count": null,
   "id": "586545f8-1bda-445b-be85-a488b24d2e13",
   "metadata": {},
   "outputs": [],
   "source": [
    "#Figure 3: on choisit notre initialisation classique\n",
    "grid = [1000, 3000, 7000, 10000, 30000, 60000]\n",
    "list_train = []\n",
    "list_pretrain = []\n",
    "for limit in grid:\n",
    "    #On split notre base de donnée\n",
    "    X_train_ex = X_train[:limit]\n",
    "    y_train_ex = y_train[:limit]\n",
    "\n",
    "    print(vect)\n",
    "    dnn1 = DNN(vect)\n",
    "    dnn2 = DNN(vect) # On initialise deux réseaux identiques\n",
    "    dnn1, losses = dnn1.pretrain_DBN(X_train_ex, batch_size = batch_size, n_epoch = n_iter_RBM, verbose = False) \n",
    "                                                            #On entraine de manière non supervisée\n",
    "    #On entraine ensuite de manière supervisée\n",
    "    dnn1, loss = dnn1.retropropagation(data = X_train_ex, labels = y_train_ex, epochs = n_iter_DBN,\n",
    "                                 batch_size = batch_size, lr_rate = lr, verbose = False)\n",
    "    #On entraine celui-ci seulement de manière supervisée\n",
    "    dnn2, loss = dnn2.retropropagation(data = X_train_ex, labels = y_train_ex, epochs = n_iter_DBN,\n",
    "                                 batch_size = batch_size, lr_rate = lr, verbose = False)\n",
    "    list_train.append(dnn2.test_dnn(X_test, y_test, verbose = False))\n",
    "    list_pretrain.append(dnn1.test_dnn(X_test, y_test, verbose = False))"
   ]
  },
  {
   "cell_type": "code",
   "execution_count": null,
   "id": "eac6a4b6-ad3f-42c0-89b2-e5ad30409d5b",
   "metadata": {},
   "outputs": [],
   "source": [
    "plt.figure(figsize=(12,7))\n",
    "plt.title(\"Évolution du taux d'erreur en fonction du nombre de données d'entrainement\")\n",
    "plt.xlabel(\"Nombre de données d'entrainement\")\n",
    "plt.ylabel(\"Taux d'erreur\")\n",
    "plt.plot(list_train, [1000, 3000, 7000, 10000, 30000, 60000])\n",
    "plt.plot(list_pretrain, [1000, 3000, 7000, 10000, 30000, 60000])\n",
    "plt.grid()\n",
    "plt.show()"
   ]
  }
 ],
 "metadata": {
  "kernelspec": {
   "display_name": "default:Python",
   "language": "python",
   "name": "conda-env-default-py"
  },
  "language_info": {
   "codemirror_mode": {
    "name": "ipython",
    "version": 3
   },
   "file_extension": ".py",
   "mimetype": "text/x-python",
   "name": "python",
   "nbconvert_exporter": "python",
   "pygments_lexer": "ipython3",
   "version": "3.9.9"
  }
 },
 "nbformat": 4,
 "nbformat_minor": 5
}
