{
 "cells": [
  {
   "cell_type": "code",
   "execution_count": 1,
   "id": "bec5ae14-a951-4207-9ba6-d4a5462a685f",
   "metadata": {},
   "outputs": [],
   "source": [
    "import matplotlib.pyplot as plt\n",
    "from mlxtend.data import loadlocal_mnist\n",
    "from principal_RBM_alpha import *\n",
    "from principal_DBN_alpha import *\n",
    "from principal_DNN_MNIST import *\n",
    "from sklearn.preprocessing import OneHotEncoder\n",
    "from utils import *"
   ]
  },
  {
   "cell_type": "markdown",
   "id": "82fb2ec4-36ea-4bfe-b4bc-617505d11fa2",
   "metadata": {},
   "source": [
    "On charge la base de donnée"
   ]
  },
  {
   "cell_type": "code",
   "execution_count": 2,
   "id": "0a147fd8-2233-44db-9be5-b98a9c3d5660",
   "metadata": {},
   "outputs": [],
   "source": [
    "X_, y_ = loadlocal_mnist(images_path='train-images-idx3-ubyte',\n",
    "                         labels_path='train-labels-idx1-ubyte')\n",
    "#On split notre base de donnée\n",
    "X_train = X_[:10000]\n",
    "y_train = y_[:10000]\n",
    "X_test = X_[10000:12000]\n",
    "y_test = y_[10000:12000]\n",
    "#On binarise les images\n",
    "X_train = np.where(X_train > 126, 1, 0)\n",
    "X_test = np.where(X_test > 126, 1, 0)\n",
    "#On encode les targets\n",
    "oh = OneHotEncoder()\n",
    "y_train = oh.fit_transform(y_train.reshape(-1,1)).toarray()\n",
    "y_test = oh.fit_transform(y_test.reshape(-1,1)).toarray()"
   ]
  },
  {
   "cell_type": "code",
   "execution_count": 3,
   "id": "861a9670-45b8-44c3-bd20-8c7ea6dc1c15",
   "metadata": {},
   "outputs": [],
   "source": [
    "# Valeurs des hyper paramètres\n",
    "vect_DNN = [784, 100, 50, 10] #taille du réseau DNN\n",
    "n_iter_RBM = 100\n",
    "n_iter_DBN = 200\n",
    "lr = 0.01\n",
    "batch_size = 32"
   ]
  },
  {
   "cell_type": "code",
   "execution_count": 4,
   "id": "1f915e22-1534-42a7-a55e-6719002f3990",
   "metadata": {},
   "outputs": [
    {
     "name": "stdout",
     "output_type": "stream",
     "text": [
      "Epoch 1 out of 100, loss: 0.03900881638865195\n",
      "Epoch 20 out of 100, loss: 0.026760749483949266\n",
      "Epoch 40 out of 100, loss: 0.02666127995332111\n",
      "Epoch 60 out of 100, loss: 0.026468620935174603\n",
      "Epoch 80 out of 100, loss: 0.026484362244973532\n",
      "Epoch 100 out of 100, loss: 0.02655798579695746\n",
      "Epoch 1 out of 100, loss: 0.07812606594561194\n",
      "Epoch 20 out of 100, loss: 0.036016302331379826\n",
      "Epoch 40 out of 100, loss: 0.03423612229130937\n",
      "Epoch 60 out of 100, loss: 0.03337435593363167\n",
      "Epoch 80 out of 100, loss: 0.032911514145112\n",
      "Epoch 100 out of 100, loss: 0.03248956111203014\n",
      "Epoch 1 out of 100, loss: 0.12917064116806948\n",
      "Epoch 20 out of 100, loss: 0.10077285062604611\n",
      "Epoch 40 out of 100, loss: 0.09976619575397333\n",
      "Epoch 60 out of 100, loss: 0.0990681849323756\n",
      "Epoch 80 out of 100, loss: 0.09917039556377659\n",
      "Epoch 100 out of 100, loss: 0.09842719406841809\n",
      "Epoch 1 out of 200. CELoss value is 16.10498526697911\n",
      "Epoch 25 out of 200. CELoss value is 3.933996543969985\n",
      "Epoch 50 out of 200. CELoss value is 2.674418528193178\n",
      "Epoch 75 out of 200. CELoss value is 2.430463022363486\n",
      "Epoch 100 out of 200. CELoss value is 2.353999401799289\n",
      "Epoch 125 out of 200. CELoss value is 2.3293223708430078\n",
      "Epoch 150 out of 200. CELoss value is 2.3172165931111395\n",
      "Epoch 175 out of 200. CELoss value is 2.3079587543806834\n",
      "Epoch 200 out of 200. CELoss value is 2.304273084977251\n"
     ]
    },
    {
     "data": {
      "image/png": "[encoded data removed]",
      "text/plain": [
       "<Figure size 432x288 with 1 Axes>"
      ]
     },
     "metadata": {
      "needs_background": "light"
     },
     "output_type": "display_data"
    },
    {
     "name": "stdout",
     "output_type": "stream",
     "text": [
      "325 2000\n",
      "The percentage of false labeled data is  83.75\n"
     ]
    },
    {
     "data": {
      "text/plain": [
       "83.75"
      ]
     },
     "execution_count": 4,
     "metadata": {},
     "output_type": "execute_result"
    }
   ],
   "source": [
    "dnn = DNN(vect_DNN) #On initialise le DNN\n",
    "\n",
    "dnn, losses = dnn.pretrain_DBN(X_train, batch_size = batch_size, n_epoch = n_iter_RBM) #On entraine de manière\n",
    "                                                                                        #non supervisée\n",
    "\n",
    "dnn, loss = dnn.retropropagation(data = X_train, labels = y_train, epochs = n_iter_DBN,\n",
    "                                 batch_size = batch_size, lr_rate = lr)  #On entraine ensuite de manière supervisée\n",
    "plt.plot(loss)\n",
    "plt.show()\n",
    "\n",
    "dnn.test_dnn(X_test, y_test)"
   ]
  },
  {
   "cell_type": "code",
   "execution_count": 5,
   "id": "726a1050-63e7-4ae0-90a7-4672d5b79f96",
   "metadata": {},
   "outputs": [
    {
     "data": {
      "text/plain": [
       "array([[0.09106925, 0.09453731, 0.07690685, 0.09802794, 0.07228693,\n",
       "        0.12445389, 0.09999393, 0.14235545, 0.11990315, 0.0804653 ],\n",
       "       [0.04712259, 0.09895196, 0.16538787, 0.08992621, 0.06507693,\n",
       "        0.07323188, 0.07999816, 0.08763891, 0.173566  , 0.1190995 ],\n",
       "       [0.12896429, 0.13947261, 0.11098943, 0.07308576, 0.09134237,\n",
       "        0.0886816 , 0.1103461 , 0.09022659, 0.0965997 , 0.07029154],\n",
       "       [0.1053543 , 0.13111979, 0.1198934 , 0.09313372, 0.11290164,\n",
       "        0.07108603, 0.07547029, 0.10388703, 0.08821057, 0.09894325],\n",
       "       [0.11440491, 0.12630796, 0.0692883 , 0.11178687, 0.09138511,\n",
       "        0.09487633, 0.08766154, 0.134541  , 0.06805151, 0.10169648]])"
      ]
     },
     "execution_count": 5,
     "metadata": {},
     "output_type": "execute_result"
    }
   ],
   "source": [
    "dnn.get_pred(X_test[:5])"
   ]
  },
  {
   "cell_type": "code",
   "execution_count": null,
   "id": "0cf924f6-831f-477a-87e3-f2a6aaae2f6d",
   "metadata": {},
   "outputs": [],
   "source": [
    "X_test"
   ]
  },
  {
   "cell_type": "markdown",
   "id": "53cd34f9-6847-4c61-bdd3-d82fe9bf89f3",
   "metadata": {},
   "source": [
    "## Analyse"
   ]
  },
  {
   "cell_type": "code",
   "execution_count": null,
   "id": "7531371d-bae5-4cc3-b75c-b52fc08f4fe7",
   "metadata": {},
   "outputs": [],
   "source": [
    "dnn1 = DNN(vect_DNN)\n",
    "dnn2 = DNN(vect_DNN) # On initialise deux réseaux identiques"
   ]
  },
  {
   "cell_type": "code",
   "execution_count": null,
   "id": "ee2d6226-f6f8-4e0d-9164-6d9a128f094d",
   "metadata": {},
   "outputs": [],
   "source": []
  },
  {
   "cell_type": "code",
   "execution_count": null,
   "id": "7af6b726-765d-4a15-8104-815e42995d00",
   "metadata": {},
   "outputs": [],
   "source": [
    "plt.figure(figsize=(12,7))\n",
    "plt.title(\"Évolution de la Cross-Entropy pendant l'entraînement\")\n",
    "plt.xlabel('Update des paramètres')\n",
    "plt.ylabel('$-\\sum ylog(\\hat{y})$')\n",
    "plt.plot(losses_1)\n",
    "plt.grid()\n",
    "plt.show()"
   ]
  },
  {
   "cell_type": "code",
   "execution_count": null,
   "id": "9f4e8f90-c652-4772-8f37-3a1bfe4889c0",
   "metadata": {},
   "outputs": [],
   "source": []
  },
  {
   "cell_type": "code",
   "execution_count": null,
   "id": "f3e1856a-f81a-44ee-aad7-8c66411dbb26",
   "metadata": {},
   "outputs": [],
   "source": [
    "plt.plot(loss)\n",
    "plt.show()\n",
    "\n",
    "dnn.test_dnn(X_test, y_test)"
   ]
  },
  {
   "cell_type": "code",
   "execution_count": null,
   "id": "586545f8-1bda-445b-be85-a488b24d2e13",
   "metadata": {},
   "outputs": [],
   "source": []
  }
 ],
 "metadata": {
  "kernelspec": {
   "display_name": "default:Python",
   "language": "python",
   "name": "conda-env-default-py"
  },
  "language_info": {
   "codemirror_mode": {
    "name": "ipython",
    "version": 3
   },
   "file_extension": ".py",
   "mimetype": "text/x-python",
   "name": "python",
   "nbconvert_exporter": "python",
   "pygments_lexer": "ipython3",
   "version": "3.9.9"
  }
 },
 "nbformat": 4,
 "nbformat_minor": 5
}
