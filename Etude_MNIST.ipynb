{
 "cells": [
  {
   "cell_type": "code",
   "execution_count": 1,
   "id": "bec5ae14-a951-4207-9ba6-d4a5462a685f",
   "metadata": {},
   "outputs": [],
   "source": [
    "import matplotlib.pyplot as plt\n",
    "from mlxtend.data import loadlocal_mnist\n",
    "from principal_RBM_alpha import *\n",
    "from principal_DBN_alpha import *\n",
    "from principal_DNN_MNIST import *\n",
    "from sklearn.preprocessing import OneHotEncoder\n",
    "from utils import *"
   ]
  },
  {
   "cell_type": "markdown",
   "id": "82fb2ec4-36ea-4bfe-b4bc-617505d11fa2",
   "metadata": {},
   "source": [
    "On charge la base de donnée"
   ]
  },
  {
   "cell_type": "code",
   "execution_count": 2,
   "id": "0a147fd8-2233-44db-9be5-b98a9c3d5660",
   "metadata": {},
   "outputs": [],
   "source": [
    "X_train, y_train = loadlocal_mnist(images_path='train-images-idx3-ubyte',\n",
    "                         labels_path='train-labels-idx1-ubyte')\n",
    "X_test, y_test = loadlocal_mnist(images_path='t10k-images-idx3-ubyte',\n",
    "                         labels_path='t10k-labels-idx1-ubyte')\n",
    "#On binarise les images\n",
    "X_train = np.where(X_train > 126, 1, 0)\n",
    "X_test = np.where(X_test > 126, 1, 0)\n",
    "#On encode les targets\n",
    "oh = OneHotEncoder()\n",
    "y_train = oh.fit_transform(y_train.reshape(-1,1)).toarray()\n",
    "y_test = oh.fit_transform(y_test.reshape(-1,1)).toarray()"
   ]
  },
  {
   "cell_type": "code",
   "execution_count": 3,
   "id": "861a9670-45b8-44c3-bd20-8c7ea6dc1c15",
   "metadata": {},
   "outputs": [],
   "source": [
    "# Valeurs des hyper paramètres\n",
    "vect_DNN = [784, 100, 50, 10] #taille du réseau DNN\n",
    "n_iter_RBM = 100\n",
    "n_iter_DBN = 200\n",
    "lr = 0.01\n",
    "batch_size = 32"
   ]
  },
  {
   "cell_type": "code",
   "execution_count": 4,
   "id": "1f915e22-1534-42a7-a55e-6719002f3990",
   "metadata": {},
   "outputs": [
    {
     "name": "stdout",
     "output_type": "stream",
     "text": [
      "Epoch 1 out of 100, loss: 0.029918568905989353\n",
      "Epoch 20 out of 100, loss: 0.02917937698821092\n",
      "Epoch 40 out of 100, loss: 0.029197133116770444\n",
      "Epoch 60 out of 100, loss: 0.028982358364980396\n",
      "Epoch 80 out of 100, loss: 0.02877831054822382\n",
      "Epoch 100 out of 100, loss: 0.028315063475180213\n",
      "Epoch 1 out of 100, loss: 0.03594927709233912\n",
      "Epoch 20 out of 100, loss: 0.023980081589374824\n",
      "Epoch 40 out of 100, loss: 0.022719933733459718\n",
      "Epoch 60 out of 100, loss: 0.022355224906399594\n",
      "Epoch 80 out of 100, loss: 0.021796614095880986\n",
      "Epoch 100 out of 100, loss: 0.021480237704878877\n",
      "Epoch 1 out of 100, loss: 0.12168261239240173\n",
      "Epoch 20 out of 100, loss: 0.11573685822279693\n",
      "Epoch 40 out of 100, loss: 0.11432861208870103\n",
      "Epoch 60 out of 100, loss: 0.11425144325297774\n",
      "Epoch 80 out of 100, loss: 0.11413986551967364\n",
      "Epoch 100 out of 100, loss: 0.11427753436993873\n",
      "Epoch 1 out of 200. CELoss value is 8.401626619265647\n",
      "Epoch 25 out of 200. CELoss value is 0.3327490661478374\n",
      "Epoch 50 out of 200. CELoss value is 0.2543296857659384\n",
      "Epoch 75 out of 200. CELoss value is 0.21576720342795666\n",
      "Epoch 100 out of 200. CELoss value is 0.19066521921504245\n",
      "Epoch 125 out of 200. CELoss value is 0.17236061440716602\n",
      "Epoch 150 out of 200. CELoss value is 0.15834122746047727\n",
      "Epoch 175 out of 200. CELoss value is 0.14707167672869595\n",
      "Epoch 200 out of 200. CELoss value is 0.13756987615581193\n"
     ]
    },
    {
     "data": {
      "image/png": "[encoded data removed]",
      "text/plain": [
       "<Figure size 432x288 with 1 Axes>"
      ]
     },
     "metadata": {
      "needs_background": "light"
     },
     "output_type": "display_data"
    },
    {
     "name": "stdout",
     "output_type": "stream",
     "text": [
      "The percentage of false labeled data is  12.54\n"
     ]
    },
    {
     "data": {
      "text/plain": [
       "12.54"
      ]
     },
     "execution_count": 4,
     "metadata": {},
     "output_type": "execute_result"
    }
   ],
   "source": [
    "dnn = DNN(vect_DNN) #On initialise le DNN\n",
    "\n",
    "dnn, losses = dnn.pretrain_DBN(X_train, batch_size = batch_size, n_epoch = n_iter_RBM) #On entraine de manière\n",
    "                                                                                        #non supervisée\n",
    "\n",
    "dnn, loss = dnn.retropropagation(data = X_train, labels = y_train, epochs = n_iter_DBN,\n",
    "                                 batch_size = batch_size, lr_rate = lr)  #On entraine ensuite de manière supervisée\n",
    "plt.plot(loss)\n",
    "plt.show()\n",
    "\n",
    "dnn.test_dnn(X_test, y_test)"
   ]
  },
  {
   "cell_type": "code",
   "execution_count": 7,
   "id": "726a1050-63e7-4ae0-90a7-4672d5b79f96",
   "metadata": {},
   "outputs": [
    {
     "data": {
      "text/plain": [
       "array([[3.75494302e-04, 1.13644650e-07, 3.69840288e-05, 1.16274086e-03,\n",
       "        1.58384670e-07, 1.17550343e-05, 2.18965547e-09, 9.98411996e-01,\n",
       "        1.64057549e-07, 5.91622285e-07],\n",
       "       [3.25956847e-07, 1.24099153e-02, 9.84356193e-01, 2.99286390e-03,\n",
       "        9.93866204e-08, 9.32660163e-06, 4.54573637e-05, 3.14897269e-07,\n",
       "        1.85503361e-04, 2.58013434e-10],\n",
       "       [7.98512819e-07, 9.94354466e-01, 3.14066683e-03, 2.55555735e-04,\n",
       "        5.96550739e-05, 5.27419233e-06, 9.26118320e-05, 1.43980360e-04,\n",
       "        7.58568415e-04, 1.18842279e-03],\n",
       "       [9.99223939e-01, 3.82604399e-09, 1.66796804e-06, 8.51890057e-05,\n",
       "        1.15735477e-04, 4.17301019e-04, 2.89344509e-05, 9.66509403e-05,\n",
       "        1.82003982e-07, 3.03963013e-05],\n",
       "       [3.27309756e-08, 7.09818336e-04, 1.12155341e-07, 8.02414119e-05,\n",
       "        9.70542284e-01, 1.30969741e-05, 2.29041207e-08, 5.60195695e-05,\n",
       "        6.80158972e-05, 2.85303559e-02]])"
      ]
     },
     "execution_count": 7,
     "metadata": {},
     "output_type": "execute_result"
    }
   ],
   "source": [
    "probs = dnn.get_pred(X_test[:5])\n",
    "probs"
   ]
  },
  {
   "cell_type": "code",
   "execution_count": 9,
   "id": "c9aa3747-dddf-471c-b66f-b5cecc028cae",
   "metadata": {},
   "outputs": [
    {
     "data": {
      "text/plain": [
       "(<matplotlib.image.AxesImage at 0x7f421d3b2310>,\n",
       " array([3.75494302e-04, 1.13644650e-07, 3.69840288e-05, 1.16274086e-03,\n",
       "        1.58384670e-07, 1.17550343e-05, 2.18965547e-09, 9.98411996e-01,\n",
       "        1.64057549e-07, 5.91622285e-07]))"
      ]
     },
     "execution_count": 9,
     "metadata": {},
     "output_type": "execute_result"
    },
    {
     "data": {
      "image/png": "[encoded data removed]",
      "text/plain": [
       "<Figure size 432x288 with 1 Axes>"
      ]
     },
     "metadata": {
      "needs_background": "light"
     },
     "output_type": "display_data"
    }
   ],
   "source": [
    "i=0\n",
    "plt.imshow(X_test[i].reshape(28,28),cmap='gray'),probs[i]"
   ]
  },
  {
   "cell_type": "code",
   "execution_count": 10,
   "id": "0ac1ea9a-8ce6-4645-9417-4daaa413fbbc",
   "metadata": {},
   "outputs": [
    {
     "data": {
      "text/plain": [
       "(<matplotlib.image.AxesImage at 0x7f421d314460>,\n",
       " array([3.25956847e-07, 1.24099153e-02, 9.84356193e-01, 2.99286390e-03,\n",
       "        9.93866204e-08, 9.32660163e-06, 4.54573637e-05, 3.14897269e-07,\n",
       "        1.85503361e-04, 2.58013434e-10]))"
      ]
     },
     "execution_count": 10,
     "metadata": {},
     "output_type": "execute_result"
    },
    {
     "data": {
      "image/png": "[encoded data removed]",
      "text/plain": [
       "<Figure size 432x288 with 1 Axes>"
      ]
     },
     "metadata": {
      "needs_background": "light"
     },
     "output_type": "display_data"
    }
   ],
   "source": [
    "i=1\n",
    "plt.imshow(X_test[i].reshape(28,28),cmap='gray'),probs[i]"
   ]
  },
  {
   "cell_type": "code",
   "execution_count": 11,
   "id": "6fc912f2-7fe0-4df9-b1b8-9931c8a81985",
   "metadata": {},
   "outputs": [
    {
     "data": {
      "text/plain": [
       "(<matplotlib.image.AxesImage at 0x7f421d2fb040>,\n",
       " array([7.98512819e-07, 9.94354466e-01, 3.14066683e-03, 2.55555735e-04,\n",
       "        5.96550739e-05, 5.27419233e-06, 9.26118320e-05, 1.43980360e-04,\n",
       "        7.58568415e-04, 1.18842279e-03]))"
      ]
     },
     "execution_count": 11,
     "metadata": {},
     "output_type": "execute_result"
    },
    {
     "data": {
      "image/png": "[encoded data removed]",
      "text/plain": [
       "<Figure size 432x288 with 1 Axes>"
      ]
     },
     "metadata": {
      "needs_background": "light"
     },
     "output_type": "display_data"
    }
   ],
   "source": [
    "i=2\n",
    "plt.imshow(X_test[i].reshape(28,28),cmap='gray'),probs[i]"
   ]
  },
  {
   "cell_type": "code",
   "execution_count": 12,
   "id": "7aa676cf-288f-46a1-9af4-bcf6928e23ec",
   "metadata": {},
   "outputs": [
    {
     "data": {
      "text/plain": [
       "(<matplotlib.image.AxesImage at 0x7f421d25c3d0>,\n",
       " array([9.99223939e-01, 3.82604399e-09, 1.66796804e-06, 8.51890057e-05,\n",
       "        1.15735477e-04, 4.17301019e-04, 2.89344509e-05, 9.66509403e-05,\n",
       "        1.82003982e-07, 3.03963013e-05]))"
      ]
     },
     "execution_count": 12,
     "metadata": {},
     "output_type": "execute_result"
    },
    {
     "data": {
      "image/png": "[encoded data removed]",
      "text/plain": [
       "<Figure size 432x288 with 1 Axes>"
      ]
     },
     "metadata": {
      "needs_background": "light"
     },
     "output_type": "display_data"
    }
   ],
   "source": [
    "i=3\n",
    "plt.imshow(X_test[i].reshape(28,28),cmap='gray'),probs[i]"
   ]
  },
  {
   "cell_type": "markdown",
   "id": "f32e8f08-29ab-4e76-836e-6e66bf79f597",
   "metadata": {},
   "source": [
    "On peut voir que le modèle prévoit la bonne classe avec une très forte probabilité. Il est interessant de remarquer que pour le 2, la probabilité du 1 est la plus proche ce qui semble cohérent car ce 2 peut ressembler à un 1."
   ]
  },
  {
   "cell_type": "markdown",
   "id": "53cd34f9-6847-4c61-bdd3-d82fe9bf89f3",
   "metadata": {},
   "source": [
    "## Analyse"
   ]
  },
  {
   "cell_type": "code",
   "execution_count": 4,
   "id": "83d0a6f7-cfde-48f9-ad65-6f864fd7fad6",
   "metadata": {},
   "outputs": [],
   "source": [
    "X_train, y_train = loadlocal_mnist(images_path='train-images-idx3-ubyte',\n",
    "                         labels_path='train-labels-idx1-ubyte')\n",
    "X_test, y_test = loadlocal_mnist(images_path='t10k-images-idx3-ubyte',\n",
    "                         labels_path='t10k-labels-idx1-ubyte')\n",
    "#On binarise les images\n",
    "X_train = np.where(X_train > 126, 1, 0)\n",
    "X_test = np.where(X_test > 126, 1, 0)\n",
    "#On encode les targets\n",
    "oh = OneHotEncoder()\n",
    "y_train = oh.fit_transform(y_train.reshape(-1,1)).toarray()\n",
    "y_test = oh.fit_transform(y_test.reshape(-1,1)).toarray()"
   ]
  },
  {
   "cell_type": "code",
   "execution_count": 12,
   "id": "ee2d6226-f6f8-4e0d-9164-6d9a128f094d",
   "metadata": {},
   "outputs": [
    {
     "name": "stdout",
     "output_type": "stream",
     "text": [
      "[784, 10]\n",
      "[784, 200, 10]\n",
      "[784, 200, 200, 10]\n",
      "[784, 200, 200, 200, 10]\n",
      "[784, 200, 200, 200, 200, 10]\n"
     ]
    }
   ],
   "source": [
    "#Figure 1\n",
    "grid = [[784, 10], [784, 200, 10], [784, 200, 200, 10], [784, 200, 200, 200, 10], [784, 200, 200, 200, 200, 10]]\n",
    "list_train = []\n",
    "list_pretrain = []\n",
    "for vect in grid:\n",
    "    print(vect)\n",
    "    dnn1 = DNN(vect)\n",
    "    dnn2 = DNN(vect) # On initialise deux réseaux identiques\n",
    "    dnn1, losses = dnn1.pretrain_DBN(X_train, batch_size = batch_size, n_epoch = n_iter_RBM, verbose = False) \n",
    "                                                            #On entraine de manière non supervisée\n",
    "    #On entraine ensuite de manière supervisée\n",
    "    dnn1, loss = dnn1.retropropagation(data = X_train, labels = y_train, epochs = n_iter_DBN,\n",
    "                                 batch_size = batch_size, lr_rate = lr, verbose = False)\n",
    "    #On entraine celui-ci seulement de manière supervisée\n",
    "    dnn2, loss = dnn2.retropropagation(data = X_train, labels = y_train, epochs = n_iter_DBN,\n",
    "                                 batch_size = batch_size, lr_rate = lr, verbose = False)\n",
    "    list_train.append(dnn2.test_dnn(X_test, y_test, verbose = False))\n",
    "    list_pretrain.append(dnn1.test_dnn(X_test, y_test, verbose = False))"
   ]
  },
  {
   "cell_type": "code",
   "execution_count": null,
   "id": "7af6b726-765d-4a15-8104-815e42995d00",
   "metadata": {},
   "outputs": [],
   "source": [
    "plt.figure(figsize=(12,7))\n",
    "plt.title(\"Évolution du taux d'erreur en fonction du nombre de couches\")\n",
    "plt.xlabel('Nombre de couches')\n",
    "plt.ylabel(\"Taux d'erreur\")\n",
    "plt.plot(list_train, [2, 3, 4, 5], label = 'réseau non preentrainé')\n",
    "plt.plot(list_pretrain, [2, 3, 4, 5])\n",
    "plt.grid()\n",
    "plt.show()"
   ]
  },
  {
   "cell_type": "code",
   "execution_count": 13,
   "id": "9f4e8f90-c652-4772-8f37-3a1bfe4889c0",
   "metadata": {},
   "outputs": [
    {
     "name": "stdout",
     "output_type": "stream",
     "text": [
      "[784, 50, 50, 10]\n",
      "[784, 100, 100, 10]\n",
      "[784, 300, 300, 10]\n",
      "[784, 500, 500, 10]\n",
      "[784, 700, 700, 10]\n"
     ]
    }
   ],
   "source": [
    "#Figure 2\n",
    "grid = [[784, 50, 50, 10], [784, 100, 100, 10],[784, 300, 300, 10], [784, 500, 500, 10], [784, 700, 700, 10]]\n",
    "list_train = []\n",
    "list_pretrain = []\n",
    "for vect in grid:\n",
    "    print(vect)\n",
    "    dnn1 = DNN(vect)\n",
    "    dnn2 = DNN(vect) # On initialise deux réseaux identiques\n",
    "    dnn1, losses = dnn1.pretrain_DBN(X_train, batch_size = batch_size, n_epoch = n_iter_RBM, verbose = False) \n",
    "                                                            #On entraine de manière non supervisée\n",
    "    #On entraine ensuite de manière supervisée\n",
    "    dnn1, loss = dnn1.retropropagation(data = X_train, labels = y_train, epochs = n_iter_DBN,\n",
    "                                 batch_size = batch_size, lr_rate = lr, verbose = False)\n",
    "    #On entraine celui-ci seulement de manière supervisée\n",
    "    dnn2, loss = dnn2.retropropagation(data = X_train, labels = y_train, epochs = n_iter_DBN,\n",
    "                                 batch_size = batch_size, lr_rate = lr, verbose = False)\n",
    "    list_train.append(dnn2.test_dnn(X_test, y_test, verbose = False))\n",
    "    list_pretrain.append(dnn1.test_dnn(X_test, y_test, verbose = False))\n",
    "    print(list_train, list_pretrain)"
   ]
  },
  {
   "cell_type": "code",
   "execution_count": null,
   "id": "f3e1856a-f81a-44ee-aad7-8c66411dbb26",
   "metadata": {},
   "outputs": [],
   "source": [
    "plt.figure(figsize=(12,7))\n",
    "plt.title(\"Évolution du taux d'erreur en fonction du nombre de neurones par couche\")\n",
    "plt.xlabel('Nombre de neurones')\n",
    "plt.ylabel(\"Taux d'erreur\")\n",
    "plt.plot(list_train, [50, 100, 300, 500, 700], label = 'réseau non preentrainé')\n",
    "plt.plot(list_pretrain, [50, 100, 300, 500, 700], label = 'réseau preentrainé')\n",
    "plt.legend()\n",
    "plt.grid()\n",
    "plt.show()"
   ]
  },
  {
   "cell_type": "code",
   "execution_count": null,
   "id": "586545f8-1bda-445b-be85-a488b24d2e13",
   "metadata": {},
   "outputs": [],
   "source": [
    "#Figure 3: on choisit notre initialisation classique\n",
    "grid = [1000, 3000, 7000, 10000, 30000, 60000]\n",
    "list_train = []\n",
    "list_pretrain = []\n",
    "for limit in grid:\n",
    "    #On split notre base de donnée\n",
    "    X_train_ex = X_train[:limit]\n",
    "    y_train_ex = y_train[:limit]\n",
    "\n",
    "    print(vect)\n",
    "    dnn1 = DNN(vect)\n",
    "    dnn2 = DNN(vect) # On initialise deux réseaux identiques\n",
    "    dnn1, losses = dnn1.pretrain_DBN(X_train_ex, batch_size = batch_size, n_epoch = n_iter_RBM, verbose = False) \n",
    "                                                            #On entraine de manière non supervisée\n",
    "    #On entraine ensuite de manière supervisée\n",
    "    dnn1, loss = dnn1.retropropagation(data = X_train_ex, labels = y_train_ex, epochs = n_iter_DBN,\n",
    "                                 batch_size = batch_size, lr_rate = lr, verbose = False)\n",
    "    #On entraine celui-ci seulement de manière supervisée\n",
    "    dnn2, loss = dnn2.retropropagation(data = X_train_ex, labels = y_train_ex, epochs = n_iter_DBN,\n",
    "                                 batch_size = batch_size, lr_rate = lr, verbose = False)\n",
    "    list_train.append(dnn2.test_dnn(X_test, y_test, verbose = False))\n",
    "    list_pretrain.append(dnn1.test_dnn(X_test, y_test, verbose = False))"
   ]
  },
  {
   "cell_type": "code",
   "execution_count": null,
   "id": "eac6a4b6-ad3f-42c0-89b2-e5ad30409d5b",
   "metadata": {},
   "outputs": [],
   "source": [
    "plt.figure(figsize=(12,7))\n",
    "plt.title(\"Évolution du taux d'erreur en fonction du nombre de données d'entrainement\")\n",
    "plt.xlabel(\"Nombre de données d'entrainement\")\n",
    "plt.ylabel(\"Taux d'erreur\")\n",
    "plt.plot(list_train, [1000, 3000, 7000, 10000, 30000, 60000], label = 'réseau non preentrainé')\n",
    "plt.plot(list_pretrain, [1000, 3000, 7000, 10000, 30000, 60000], label = 'réseau preentrainé')\n",
    "plt.grid()\n",
    "plt.show()"
   ]
  }
 ],
 "metadata": {
  "kernelspec": {
   "display_name": "default:Python",
   "language": "python",
   "name": "conda-env-default-py"
  },
  "language_info": {
   "codemirror_mode": {
    "name": "ipython",
    "version": 3
   },
   "file_extension": ".py",
   "mimetype": "text/x-python",
   "name": "python",
   "nbconvert_exporter": "python",
   "pygments_lexer": "ipython3",
   "version": "3.9.9"
  }
 },
 "nbformat": 4,
 "nbformat_minor": 5
}
