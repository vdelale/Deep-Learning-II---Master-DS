{
 "cells": [
  {
   "cell_type": "code",
   "execution_count": 1,
   "id": "a9bfb8da-bcfd-41ed-9c72-2f18edf4ea7a",
   "metadata": {},
   "outputs": [],
   "source": [
    "import matplotlib.pyplot as plt\n",
    "from mlxtend.data import loadlocal_mnist\n",
    "from principal_RBM_alpha import *\n",
    "from principal_DBN_alpha import *\n",
    "from principal_DNN_MNIST import *\n",
    "from sklearn.preprocessing import OneHotEncoder\n",
    "from utils import *\n",
    "\n",
    "PATH = 'binaryalphadigs.mat'"
   ]
  },
  {
   "cell_type": "code",
   "execution_count": 4,
   "id": "f106354f-55a8-4b65-b7b8-5b78890402e0",
   "metadata": {},
   "outputs": [],
   "source": [
    "chars = 'defg'\n",
    "images, indices = lire_alpha_digit(PATH, chars)"
   ]
  },
  {
   "cell_type": "markdown",
   "id": "217f1987-9a02-4083-9a2a-762f02821a15",
   "metadata": {},
   "source": [
    "On commence par le RBM: on l'entraîne puis on génère des images."
   ]
  },
  {
   "cell_type": "code",
   "execution_count": 7,
   "id": "f60e62b3-d866-49f8-b7fd-cf73b6e54643",
   "metadata": {},
   "outputs": [
    {
     "name": "stdout",
     "output_type": "stream",
     "text": [
      "Epoch 1 out of 500, loss: 0.21116179135919927\n",
      "Epoch 100 out of 500, loss: 0.005091555571694473\n",
      "Epoch 200 out of 500, loss: 0.0010287141261452303\n",
      "Epoch 300 out of 500, loss: 0.00042378880538542494\n",
      "Epoch 400 out of 500, loss: 0.0002245503399005506\n",
      "Epoch 500 out of 500, loss: 0.0001427858337412829\n"
     ]
    },
    {
     "data": {
      "image/png": "[encoded data removed]",
      "text/plain": [
       "<Figure size 432x288 with 1 Axes>"
      ]
     },
     "metadata": {
      "needs_background": "light"
     },
     "output_type": "display_data"
    },
    {
     "data": {
      "image/png": "[encoded data removed]",
      "text/plain": [
       "<Figure size 432x288 with 10 Axes>"
      ]
     },
     "metadata": {},
     "output_type": "display_data"
    }
   ],
   "source": [
    "# Valeurs des hyper paramètres et entrainement\n",
    "p = 320  #(egal à 20 * 16, la taille de l'image)\n",
    "q = 250\n",
    "rbm = RBM(p, q) #la taille du réseau est donc [320,250]\n",
    "\n",
    "epochs = 500\n",
    "learning_rate = 0.01\n",
    "batch_size = 10\n",
    "\n",
    "RBM_trained, loss = rbm.train_RBM(images, epochs, learning_rate, batch_size)\n",
    "\n",
    "plt.plot(loss)\n",
    "plt.title(\"Évolution de la loss pendant l'entraînement\")\n",
    "plt.show()\n",
    "\n",
    "n_iter = 1000\n",
    "n_imgs = 10\n",
    "RBM_trained.generer_image_RBM(n_imgs, n_iter)"
   ]
  },
  {
   "cell_type": "markdown",
   "id": "7d762e12-d86d-4d1e-ab03-c4b3d9130469",
   "metadata": {},
   "source": [
    "Les images générées sont bien cohérentes car semblables aux données d’apprentissage. On s'occupe maintenant du DBN:"
   ]
  },
  {
   "cell_type": "code",
   "execution_count": 6,
   "id": "4baa481a-7fb6-472c-9af4-c0a5794c9791",
   "metadata": {},
   "outputs": [
    {
     "name": "stdout",
     "output_type": "stream",
     "text": [
      "Epoch 1 out of 2000, loss: 0.21281277530940543\n",
      "Epoch 100 out of 2000, loss: 0.08518544957446826\n",
      "Epoch 200 out of 2000, loss: 0.048990106950131715\n",
      "Epoch 300 out of 2000, loss: 0.030131669156349003\n",
      "Epoch 400 out of 2000, loss: 0.019576194229452594\n",
      "Epoch 500 out of 2000, loss: 0.013101441495903234\n",
      "Epoch 600 out of 2000, loss: 0.009142612734119442\n",
      "Epoch 700 out of 2000, loss: 0.006590934866812437\n",
      "Epoch 800 out of 2000, loss: 0.004949099648746493\n",
      "Epoch 900 out of 2000, loss: 0.0037583336921817702\n",
      "Epoch 1000 out of 2000, loss: 0.0029622866244954187\n",
      "Epoch 1100 out of 2000, loss: 0.002386601371345799\n",
      "Epoch 1200 out of 2000, loss: 0.0019783679500683135\n",
      "Epoch 1300 out of 2000, loss: 0.0016441206889833543\n",
      "Epoch 1400 out of 2000, loss: 0.0014013521021503759\n",
      "Epoch 1500 out of 2000, loss: 0.0011952370276609482\n",
      "Epoch 1600 out of 2000, loss: 0.0010342932752904614\n",
      "Epoch 1700 out of 2000, loss: 0.0009062888118773957\n",
      "Epoch 1800 out of 2000, loss: 0.0007955374514016174\n",
      "Epoch 1900 out of 2000, loss: 0.0007090193787988668\n",
      "Epoch 2000 out of 2000, loss: 0.0006320036165620591\n",
      "Epoch 1 out of 2000, loss: 0.21988173437474048\n",
      "Epoch 100 out of 2000, loss: 0.0866986473788082\n",
      "Epoch 200 out of 2000, loss: 0.05321640291975045\n",
      "Epoch 300 out of 2000, loss: 0.03491694319058462\n",
      "Epoch 400 out of 2000, loss: 0.023601681320123274\n",
      "Epoch 500 out of 2000, loss: 0.01658527763937368\n",
      "Epoch 600 out of 2000, loss: 0.011924462162124077\n",
      "Epoch 700 out of 2000, loss: 0.008832925021439985\n",
      "Epoch 800 out of 2000, loss: 0.006687422571738507\n",
      "Epoch 900 out of 2000, loss: 0.0051188217442790975\n",
      "Epoch 1000 out of 2000, loss: 0.0040335959788612465\n",
      "Epoch 1100 out of 2000, loss: 0.0032260163570542078\n",
      "Epoch 1200 out of 2000, loss: 0.0026110572276419218\n",
      "Epoch 1300 out of 2000, loss: 0.0021707574795787232\n",
      "Epoch 1400 out of 2000, loss: 0.0018180449903311374\n",
      "Epoch 1500 out of 2000, loss: 0.0015366574482886023\n",
      "Epoch 1600 out of 2000, loss: 0.0013181938491743982\n",
      "Epoch 1700 out of 2000, loss: 0.001143862669389054\n",
      "Epoch 1800 out of 2000, loss: 0.0010075533447046598\n",
      "Epoch 1900 out of 2000, loss: 0.0008833729959829357\n",
      "Epoch 2000 out of 2000, loss: 0.0007762491062362819\n",
      "Epoch 1 out of 2000, loss: 0.2396538956013001\n",
      "Epoch 100 out of 2000, loss: 0.10057524675169177\n",
      "Epoch 200 out of 2000, loss: 0.060975457009768405\n",
      "Epoch 300 out of 2000, loss: 0.043459962645161665\n",
      "Epoch 400 out of 2000, loss: 0.03281793050448039\n",
      "Epoch 500 out of 2000, loss: 0.025745840937302537\n",
      "Epoch 600 out of 2000, loss: 0.02078376961310125\n",
      "Epoch 700 out of 2000, loss: 0.016920915030824827\n",
      "Epoch 800 out of 2000, loss: 0.014010125477026625\n",
      "Epoch 900 out of 2000, loss: 0.011784619009211161\n",
      "Epoch 1000 out of 2000, loss: 0.009996829609258065\n",
      "Epoch 1100 out of 2000, loss: 0.008549996375250743\n",
      "Epoch 1200 out of 2000, loss: 0.0073901650825886\n",
      "Epoch 1300 out of 2000, loss: 0.0064357926180180144\n",
      "Epoch 1400 out of 2000, loss: 0.005610814405549276\n",
      "Epoch 1500 out of 2000, loss: 0.004904654163729485\n",
      "Epoch 1600 out of 2000, loss: 0.004345030775722556\n",
      "Epoch 1700 out of 2000, loss: 0.003868412593836015\n",
      "Epoch 1800 out of 2000, loss: 0.0034602584683401092\n",
      "Epoch 1900 out of 2000, loss: 0.003109475932106643\n",
      "Epoch 2000 out of 2000, loss: 0.002820512131682924\n"
     ]
    },
    {
     "data": {
      "image/png": "[encoded data removed]",
      "text/plain": [
       "<Figure size 432x288 with 10 Axes>"
      ]
     },
     "metadata": {},
     "output_type": "display_data"
    }
   ],
   "source": [
    "neurons = [images[0, :].shape[0], 200, 150, 100] #taille du réseau\n",
    "dbn = DBN(neurons)\n",
    "dbn, losses = dbn.pretrain_DBN(images, n_epoch=2000, lr_rate=0.001)\n",
    "generated = dbn.generer_image_DBN(n_imgs, n_iter=n_iter)"
   ]
  },
  {
   "cell_type": "markdown",
   "id": "9a8fad94-b01a-4f25-bbd6-f928044e7d9f",
   "metadata": {},
   "source": [
    "A nouveau, les images générées sont cohérentes car semblables aux données d’apprentissage. On peut donc maintenant réaliser l'étude sur MNIST."
   ]
  },
  {
   "cell_type": "code",
   "execution_count": null,
   "id": "cecbf27d-c6cd-4de2-b7ce-a744e3830171",
   "metadata": {},
   "outputs": [],
   "source": []
  }
 ],
 "metadata": {
  "kernelspec": {
   "display_name": "default:Python",
   "language": "python",
   "name": "conda-env-default-py"
  },
  "language_info": {
   "codemirror_mode": {
    "name": "ipython",
    "version": 3
   },
   "file_extension": ".py",
   "mimetype": "text/x-python",
   "name": "python",
   "nbconvert_exporter": "python",
   "pygments_lexer": "ipython3",
   "version": "3.9.9"
  }
 },
 "nbformat": 4,
 "nbformat_minor": 5
}
